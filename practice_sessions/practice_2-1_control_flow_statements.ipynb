{
 "cells": [
  {
   "cell_type": "markdown",
   "metadata": {},
   "source": [
    "| [⬅️ Previous Session](practice_1-2_lists.ipynb) | [🏠 Course Home](../index.ipynb) | [➡️ Next Session](practice_2-2_structured_data.ipynb) |\n",
    "\n",
    "# Practice 2-1: Control Flow Statements\n",
    "\n",
    "![control.jpeg](assets/control.jpeg)\n",
    "\n",
    "<hr style=\"border-top: 1px solid gray; margin-top: 24px; margin-bottom: 1px\"></hr>"
   ]
  },
  {
   "cell_type": "markdown",
   "metadata": {},
   "source": [
    "\n",
    "## 📚  Practice 1\n",
    "\n",
    "In programs, <code>if</code> statements are useful for catching errors due to user input. \n",
    "\n",
    "Define two new variables based on user input: the first prompting for a temperature value and the second prompting for the units as \"F\" or \"C\". \n",
    "\n",
    "Using the equation below, write an <code>if</code> statement that converts the temperature input to °C if it was given in °F or to °F if given in °C. Recall that all variables assigned based on user input are strings. Be sure to comment your code.\n",
    "    \n",
    "Formula for conversion between °F and °C:\n",
    "    $$T_{^{\\circ} C} = (T_{^{\\circ} F} - 32) \\times 5/9$$\n"
   ]
  },
  {
   "cell_type": "markdown",
   "metadata": {},
   "source": [
    "Describe your strategy here:\n",
    "write an if statement that detects the user input for the units then uses the user input of the temp for the conversion"
   ]
  },
  {
   "cell_type": "code",
   "execution_count": null,
   "metadata": {},
   "outputs": [],
   "source": [
    "\n",
    "#Add your code here:\n",
    "temp_input = input(\"What is the temperature?\")\n",
    "unit_input = input(\"What are the units of this temperature? F or C\")\n",
    "#temp_input = 71\n",
    "#unit_input = \"F\"\n",
    "\n",
    "if unit_input == \"F\":\n",
    "    temp = (float(temp_input) - 32)*(5/9)\n",
    "    print(f\"The temperature outside is approximately {round(temp)} degC\")\n",
    "elif unit_input == \"C\":\n",
    "    temp = (float(temp_input)*(9/5))+32\n",
    "    print(f\"The temperature outside is approximately {round(temp)} degF\")\n",
    "else :\n",
    "    print(\"are you sure you inputted units of F for Fahrenheit or C for Celcius?\")\n"
   ]
  },
  {
   "cell_type": "markdown",
   "metadata": {},
   "source": [
    "## 📚  Practice 2. \n",
    "\n",
    "Using nested <code>if</code> statements and your code from Practice question #1, convert the user input temperature to the opposite units (°F to °C or vice versa), print a statement to the user that reports the temperature in the converted units and indicates whether or not the temperature below freezing. \n",
    "\n",
    "Your print statement should look something like:\n",
    "\n",
    "<code>The temperature is {__}°C/F. It is (not) below freezing.</code>\n",
    "\n"
   ]
  },
  {
   "cell_type": "markdown",
   "metadata": {},
   "source": [
    "Describe your strategy here:\n",
    "keep the if statements I have, add a nested if statement to determine whether or not it is below the freezing temp, then change the printed output"
   ]
  },
  {
   "cell_type": "code",
   "execution_count": null,
   "metadata": {},
   "outputs": [],
   "source": [
    "# Add your code here:\n",
    "temp_input = 27\n",
    "unit_input = \"C\"\n",
    "\n",
    "if unit_input == \"F\":\n",
    "    temp = (temp_input - 32)*(5/9)\n",
    "    if temp > 0:\n",
    "        print(f\"The temperature is {round(temp)} degC. It is not below freezing.\")\n",
    "    elif temp <= 0:\n",
    "        print(f\"The temperature is {round(temp)} degC. It is below freezing.\")\n",
    "    else:\n",
    "        print(\"Are you sure you inpuuted the correct temperature in temp_input?\")    \n",
    "elif unit_input == \"C\":\n",
    "    temp = (temp_input*(9/5))+32\n",
    "    if temp > 32:\n",
    "        print(f\"The temperature is {round(temp)} degF. It is not below freezing.\")\n",
    "    elif temp <= 32:\n",
    "        print(f\"The temperature is {round(temp)} degF. It is below freezing.\")\n",
    "    else:\n",
    "        print(\"Are you sure you inpuuted the correct temperature in temp_input?\") \n",
    "else :\n",
    "    print(\"are you sure you inputted units of F for Fahrenheit or C for Celcius?\")"
   ]
  },
  {
   "cell_type": "markdown",
   "metadata": {},
   "source": [
    "## 📚  <b> Practice 3. </b> \n",
    "\n",
    "1. Create a list of the six organic elements sorted in alphabetical order and then print each element in the list.\n",
    "\n",
    "Given your sorted <code>org_elements</code> list and the corresponding list of atomic masses given in the cell below, use <code>enumerate()</code> in a <code>for</code> loop to print a formatted statement that expresses the atomic mass of of each element. \n",
    "\n",
    "Your formatted print statement should include the name of the element, the atomic mass rounded to 2 decimal places, and units.\n",
    "\n"
   ]
  },
  {
   "cell_type": "markdown",
   "metadata": {},
   "source": [
    "Describe your strategy here:\n",
    "\n"
   ]
  },
  {
   "cell_type": "code",
   "execution_count": null,
   "metadata": {},
   "outputs": [],
   "source": [
    "org_elements = ['Carbon', 'Hydrogen', 'Nitrogen', 'Oxygen', 'Phosphorus', 'Sulfur']\n",
    "org_elements.sort()\n",
    "#print(org_elements)\n",
    "atomic_mass = [12.011, 1.00784, 14.0067, 15.999, 30.97376, 32.065]  # g/mol\n",
    "\n",
    "for (i,element) in enumerate(org_elements):\n",
    "    print(f'The atomic mass of {element} is {atomic_mass[i]} grams/mol.')\n",
    "\n",
    "\n",
    "#for element,mass in zip(org_elements,atomic_mass):\n",
    "   # print(f'The atomic mass of {element} is {mass} grams/mol.')    \n",
    "\n"
   ]
  },
  {
   "cell_type": "markdown",
   "metadata": {},
   "source": [
    "## 📚  <b> Practice 4. </b> \n",
    "The cell below contains monthly global land-ocean surface temperature in °F for each month during the years 2015-2022. \n",
    "\n",
    "Using  <code>enumerate()</code>, <code>zip()</code>, a nested <code>for</code> loop, or some combination of the three:\n",
    "\n",
    "<ol class=\"alpha\">\n",
    "<li> Calculate the monthly global land-ocean surface temperature anomalies (deviation from the mean) in °C for 2015-2018. The mean global land-ocean surface temperature calculated over the 20th century was 15.6°C.</li>\n",
    "<li> Create a new list with the mean monthly global surface temperature anomalies in °C for 2015-2023 (i.e. calculate the mean temperature anomaly for each month and put these values in a list). Use the command <code>np.mean()</code> to calculate mean values. </li> \n",
    "<li> Print each monthly mean value with the name of the month and units. </li>\n",
    "</ol>\n",
    "</div>"
   ]
  },
  {
   "cell_type": "code",
   "execution_count": null,
   "metadata": {},
   "outputs": [],
   "source": [
    "# Import numpy for mean calculations\n",
    "import numpy as np\n",
    "\n",
    "tempF_2015 = [61.628, 61.7, 61.808, 61.448, 61.52, 61.538, 61.394, 61.52, 61.61, 62.042, 61.988, 62.168]\n",
    "tempF_2016 = [62.186, 62.546, 62.528, 62.06, 61.79, 61.52, 61.61, 61.916, 61.718, 61.682, 61.736, 61.628]\n",
    "tempF_2017 = [61.916, 62.132, 62.168, 61.772, 61.718, 61.376, 61.556, 61.646, 61.466, 61.7, 61.664, 61.754]\n",
    "tempF_2018 = [61.556, 61.61, 61.664, 61.682, 61.556, 61.466, 61.556, 61.448, 61.52, 61.916, 61.556, 61.718]\n",
    "tempF_2019 = [61.754, 61.79, 62.186, 61.898, 61.61, 61.7, 61.772, 61.79, 61.754, 61.898, 61.862, 62.042]\n",
    "tempF_2020 = [62.186, 62.312, 62.186, 62.114, 61.898, 61.736, 61.7, 61.646, 61.862, 61.664, 62.06, 61.538]\n",
    "tempF_2021 = [61.538, 61.232, 61.664, 61.43, 61.484, 61.592, 61.736, 61.556, 61.736, 61.88, 61.772, 61.61]\n",
    "\n",
    "# List of yearly lists (may or may not be useful)\n",
    "tempF_list = [tempF_2015, tempF_2016, tempF_2017, tempF_2018, tempF_2019, tempF_2020, tempF_2021]\n",
    "\n",
    "# List of years (probably useful)\n",
    "years = [2015, 2016, 2017, 2018, 2019, 2020, 2021]\n",
    "months = ['January', 'February', 'March', 'April', 'May', 'June', 'July', 'August', 'September', 'October', 'November', 'December']"
   ]
  },
  {
   "cell_type": "markdown",
   "metadata": {},
   "source": [
    "Describe your strategy here:\n",
    "\n"
   ]
  },
  {
   "cell_type": "code",
   "execution_count": 146,
   "metadata": {},
   "outputs": [
    {
     "name": "stdout",
     "output_type": "stream",
     "text": [
      "[0.86, 0.9, 0.96, 0.76, 0.8, 0.81, 0.73, 0.8, 0.85, 1.09, 1.06, 1.16, 1.17, 1.37, 1.36, 1.1, 0.95, 0.8, 0.85, 1.02, 0.91, 0.89, 0.92, 0.86, 1.02, 1.14, 1.16, 0.94, 0.91, 0.72, 0.82, 0.87, 0.77, 0.9, 0.88, 0.93, 0.82, 0.85, 0.88, 0.89, 0.82, 0.77, 0.82, 0.76, 0.8, 1.02, 0.82, 0.91, 0.93, 0.95, 1.17, 1.01, 0.85, 0.9, 0.94, 0.95, 0.93, 1.01, 0.99, 1.09, 1.17, 1.24, 1.17, 1.13, 1.01, 0.92, 0.9, 0.87, 0.99, 0.88, 1.1, 0.81, 0.81, 0.64, 0.88, 0.75, 0.78, 0.84, 0.92, 0.82, 0.92, 1.0, 0.94, 0.85]\n"
     ]
    }
   ],
   "source": [
    "anomaly_list = []\n",
    "for i,data in enumerate(tempF_list):\n",
    "    for j,tempF in enumerate(tempF_list[i]):\n",
    "        tempC = (tempF - 32)*(5/9)\n",
    "        anomaly = tempC - 15.6 \n",
    "        anomaly_list.append(round(anomaly, 3))\n",
    "        #print(f\"The temperature anomaly for {months[j]} of {years[i]} is {round(anomaly,4)} degC\")\n",
    "\n",
    "print(anomaly_list)"
   ]
  },
  {
   "cell_type": "code",
   "execution_count": null,
   "metadata": {},
   "outputs": [],
   "source": [
    "# 1:Calculate the monthly global land-ocean surface temperature anomalies (deviation from the mean) in °C for 2015-2018. \n",
    "#The mean global land-ocean surface temperature calculated over the 20th century was 15.6°C.\n",
    "for j,data in enumerate(zip(tempF_2015, tempF_2016, tempF_2017, tempF_2018, tempF_2019, tempF_2020, tempF_2021)):\n",
    "    for i,tempF in enumerate(data):\n",
    "        tempC = (tempF - 32)*(5/9)\n",
    "        anomaly = tempC - 15.6 \n",
    "        print(f\"The temperature anomaly for {months[j]} of {years[i]} is {round(anomaly,4)} degC\")\n",
    "       # print(anomaly)\n",
    "\n"
   ]
  },
  {
   "cell_type": "code",
   "execution_count": 153,
   "metadata": {},
   "outputs": [
    {
     "name": "stdout",
     "output_type": "stream",
     "text": [
      "['The January average monthly anomaly for the period 2015-2021 is 0.969 degC', 'The February average monthly anomaly for the period 2015-2021 is 1.013 degC', 'The March average monthly anomaly for the period 2015-2021 is 1.083 degC', 'The April average monthly anomaly for the period 2015-2021 is 0.94 degC', 'The May average monthly anomaly for the period 2015-2021 is 0.874 degC', 'The June average monthly anomaly for the period 2015-2021 is 0.823 degC', 'The July average monthly anomaly for the period 2015-2021 is 0.854 degC', 'The August average monthly anomaly for the period 2015-2021 is 0.87 degC', 'The September average monthly anomaly for the period 2015-2021 is 0.881 degC', 'The October average monthly anomaly for the period 2015-2021 is 0.97 degC', 'The November average monthly anomaly for the period 2015-2021 is 0.959 degC', 'The December average monthly anomaly for the period 2015-2021 is 0.944 degC']\n"
     ]
    }
   ],
   "source": [
    "#Create a new list with the mean monthly global surface temperature anomalies in °C for 2015-2023 \n",
    "#(i.e. calculate the mean temperature anomaly for each month and put these values in a list).\n",
    "month_list = []\n",
    "for i,data in enumerate(zip(tempF_2015, tempF_2016, tempF_2017, tempF_2018, tempF_2019, tempF_2020, tempF_2021)):\n",
    "    monthly_temp = np.mean(data)\n",
    "    # print(f\"the average montly temperature for {months[i]} is {monthly_temp} degF\")\n",
    "    avgtemp = (monthly_temp - 32)*(5/9)\n",
    "    monthly_anomaly = avgtemp - 15.6 \n",
    "    month_list.append(f\"The {months[i]} average monthly anomaly for the period 2015-2021 is {round(monthly_anomaly,3)} degC\")\n",
    "   # print(f\"The {months[i]} average monthly anomaly for the period 2015-2021 is {monthly_anomaly} degC\")\n",
    "\n",
    "#month_list.append(round(monthly_anomaly,3))\n",
    "print(month_list)"
   ]
  },
  {
   "cell_type": "markdown",
   "metadata": {},
   "source": [
    "## 📚  Practice 5.\n",
    "\n",
    "Use a list comprehension to print a list of all months that had an anomaly above the average monthly anomaly.\n",
    "\n",
    "Some helpful code is provided below:\n",
    "```python\n",
    "months = ['January', 'February', 'March', 'April', 'May', 'June', 'July', 'August', 'September', 'October', 'November', 'December']\n",
    "\n",
    "average_anomaly = np.mean(mean_monthly_anomalies)\n",
    "\n",
    "```\n",
    "Recall that list comprehensions can contain <code>if</code> statements. For example:\n",
    "\n",
    "[<code>item</code> for <code>item</code> in <code>list</code> if <code>item</code> > <code>value</code>]\n",
    "\n",
    "And they can also contain enumerate statements:\n",
    "\n",
    "[<code>item</code> for <code>index,item</code> in <code>enumerate(list)</code> if <code>other_list[index]</code> > <code>value</code>]"
   ]
  },
  {
   "cell_type": "markdown",
   "metadata": {},
   "source": [
    "Describe your strategy here:\n",
    "\n"
   ]
  },
  {
   "cell_type": "code",
   "execution_count": null,
   "metadata": {},
   "outputs": [],
   "source": [
    "new_list = []\n",
    "for i,data in enumerate(zip(tempF_2015, tempF_2016, tempF_2017, tempF_2018, tempF_2019, tempF_2020, tempF_2021)):\n",
    "    monthly_temp = np.mean(data)\n",
    "    avgtemp = (monthly_temp - 32)*(5/9)\n",
    "    monthly_anomaly = avgtemp - 15.6 \n",
    "    new_list[i] = monthly_anomaly\n",
    "    \n",
    "average_average = np.mean(new_list)\n",
    "#print(average_average)    \n",
    "above_anomaly = [print(f\"{months[i]} has an above average monthly anomaly of {new_list[i]} degC\") for i,temp in enumerate(new_list) if new_list[i]>average_average]\n",
    "    \n",
    "    #print(f\"The {months[i]} average monthly anomaly for the period 2015-2021 is {monthly_anomaly} degC\")"
   ]
  }
 ],
 "metadata": {
  "kernelspec": {
   "display_name": "Python (eds217_2023)",
   "language": "python",
   "name": "eds217_2023"
  },
  "language_info": {
   "codemirror_mode": {
    "name": "ipython",
    "version": 3
   },
   "file_extension": ".py",
   "mimetype": "text/x-python",
   "name": "python",
   "nbconvert_exporter": "python",
   "pygments_lexer": "ipython3",
   "version": "3.10.12"
  },
  "orig_nbformat": 4
 },
 "nbformat": 4,
 "nbformat_minor": 2
}
