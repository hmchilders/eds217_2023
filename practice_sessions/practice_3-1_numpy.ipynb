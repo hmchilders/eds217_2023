{
 "cells": [
  {
   "cell_type": "markdown",
   "metadata": {},
   "source": [
    "| [⬅️ Previous Session](practice_2-2_structured_data.ipynb) | [🏠 Course Home](../index.ipynb) | [➡️ Next Session](practice_4-1_pandas.ipynb) |\n",
    "\n",
    "# Practice 3-1: Introduction to NumPy"
   ]
  },
  {
   "cell_type": "markdown",
   "metadata": {},
   "source": [
    "\n",
    "<div class=\"run\">\n",
    "    ▶️ <b> Run the cell below. </b>\n",
    "</div>\n"
   ]
  },
  {
   "cell_type": "code",
   "execution_count": 1,
   "metadata": {},
   "outputs": [
    {
     "name": "stdout",
     "output_type": "stream",
     "text": [
      "Intel MKL WARNING: Support of Intel(R) Streaming SIMD Extensions 4.2 (Intel(R) SSE4.2) enabled only processors has been deprecated. Intel oneAPI Math Kernel Library 2025.0 will require Intel(R) Advanced Vector Extensions (Intel(R) AVX) instructions.\n",
      "Intel MKL WARNING: Support of Intel(R) Streaming SIMD Extensions 4.2 (Intel(R) SSE4.2) enabled only processors has been deprecated. Intel oneAPI Math Kernel Library 2025.0 will require Intel(R) Advanced Vector Extensions (Intel(R) AVX) instructions.\n"
     ]
    }
   ],
   "source": [
    "# Imports\n",
    "import numpy as np"
   ]
  },
  {
   "cell_type": "markdown",
   "metadata": {},
   "source": [
    "\n",
    "## 📚  **Practice 1.**  \n",
    "Create the following arrays and assign the corresponding variable names:\n",
    "\n",
    "1. `a`  \n",
    "    $$\n",
    "    \\begin{bmatrix}\n",
    "        4 & 5 & 0 & 12 & -1 \\\\\n",
    "        8 & -21 & -4 & 6 & 3 \\\\\n",
    "        17 & 1 & -13 & 7 & 0\n",
    "    \\end{bmatrix}\n",
    "    $$\n",
    "\n",
    "2. `b`  \n",
    "    $$\n",
    "    \\begin{bmatrix}\n",
    "        1.0 & 2.7 & 0 & 0.188 & 4.07 & 0.24\n",
    "    \\end{bmatrix}\n",
    "    $$\n",
    "\n",
    "3. `c`  \n",
    "    $$\n",
    "    \\begin{bmatrix}\n",
    "        0.4 \\\\\n",
    "        0.8 \\\\\n",
    "        1.2 \\\\\n",
    "        1.6 \\\\\n",
    "        2.0 \\\\\n",
    "        2.4\n",
    "    \\end{bmatrix}\n",
    "    $$\n"
   ]
  },
  {
   "cell_type": "code",
   "execution_count": null,
   "metadata": {},
   "outputs": [],
   "source": []
  },
  {
   "cell_type": "markdown",
   "metadata": {},
   "source": [
    "## 📚  <b> Practice 2. </b> \n",
    "<ol class=\"alpha\">\n",
    "<li> Create a new array <code>d</code> of integers the multiples of 3 between 0 and 100.</li>\n",
    "<li> Create an array <code>f</code> 10 evenly spaced elements between 0 and 2.</li> \n",
    "<li> Re-create array <code>c</code> from Practice 1c using a function. Assign this to variable name <code>g</code>. </li>\n",
    "</ol>    "
   ]
  },
  {
   "cell_type": "code",
   "execution_count": null,
   "metadata": {},
   "outputs": [],
   "source": []
  },
  {
   "cell_type": "markdown",
   "metadata": {},
   "source": [
    "## 📚  <b> Practice 3. </b> Assign the following to variables:\n",
    "<ol class=\"alpha\">\n",
    "    <li> A 5x3 array of ones. </li>\n",
    "    <li> A one-dimensional array of 6 zeros. </li> \n",
    "    <li> A 7x7 identity array. </li>\n",
    "    <li> A random 10x10 array. </li>\n",
    "</ol>"
   ]
  },
  {
   "cell_type": "code",
   "execution_count": null,
   "metadata": {},
   "outputs": [],
   "source": []
  },
  {
   "cell_type": "markdown",
   "metadata": {},
   "source": [
    "## 📚  <b> Practice 4. </b> \n",
    "Use array methods and the array you created in Practice 2a (<code>d</code>) to count the number of multiples of 3 between 0 and 100.\n"
   ]
  },
  {
   "cell_type": "code",
   "execution_count": null,
   "metadata": {},
   "outputs": [],
   "source": []
  },
  {
   "cell_type": "markdown",
   "metadata": {},
   "source": [
    "\n",
    "## 📚  <b> Practice 5. </b> Using the array you created in Practice 3d,\n",
    "<ol class=\"alpha\">\n",
    "    <li> Print all the elements in column 4. </li>\n",
    "    <li> Print all the elements in row 7. </li>\n",
    "    <li> Extract the 4x4 subarray at the center of the array and assign it as a new variable. </li>\n",
    "    <li> Print the last two values in column 10. </li>\n",
    "</ol>"
   ]
  },
  {
   "cell_type": "code",
   "execution_count": null,
   "metadata": {},
   "outputs": [],
   "source": []
  },
  {
   "cell_type": "markdown",
   "metadata": {},
   "source": [
    "## 📚  <b> Practice 6. </b> \n",
    "Create a blank 8x8 matrix and fill it with a checkerboard pattern of 0s and 1s using indexing.\n"
   ]
  },
  {
   "cell_type": "code",
   "execution_count": null,
   "metadata": {},
   "outputs": [],
   "source": []
  },
  {
   "cell_type": "markdown",
   "metadata": {},
   "source": [
    "## 📚  <b> Practice 7. </b>\n",
    "<ol class=\"alpha\">\n",
    "    <li> Create a 3x3 matrix with values ranging from 0 to 8. </li>\n",
    "    <li> Reverse the order of elements in your random 10x10 array from 3d. </li>\n",
    "</ol>"
   ]
  },
  {
   "cell_type": "code",
   "execution_count": null,
   "metadata": {},
   "outputs": [],
   "source": []
  },
  {
   "cell_type": "markdown",
   "metadata": {},
   "source": [
    "\n",
    "## 📚  <b> Practice 8. </b> \n",
    "Create two random 1-D arrays of length 10. Merge them into a 2x10 array and then a 10x2 array.\n"
   ]
  },
  {
   "cell_type": "code",
   "execution_count": null,
   "metadata": {},
   "outputs": [],
   "source": []
  },
  {
   "cell_type": "markdown",
   "metadata": {},
   "source": [
    "\n",
    "## 📚  <b> Practice 9. </b>\n",
    "<ol class=\"alpha\">\n",
    "    <li> Split your random 10x10 array from 3d into two 10x5 arrays. </li>\n",
    "    <li> Combine the first 10x5 array from (a), the 10x2 array from 8b, and the other 10x5 array from (a). In other words, recombine the 10x10 array from 3d with two new columns in index positions 5 and 6. Your final array should have 10 rows and 12 columns. Verify this by printing the shape of the resulting array. </li>\n",
    "</ol>\n"
   ]
  },
  {
   "cell_type": "code",
   "execution_count": null,
   "metadata": {},
   "outputs": [],
   "source": []
  },
  {
   "cell_type": "markdown",
   "metadata": {},
   "source": [
    "\n",
    "## 📚  <b> Practice 10. </b>\n",
    "<ol class=\"alpha\">\n",
    "    <li> Raise array <code>b</code> to the power of array <code>c</code>. </li>\n",
    "    <li> Create a new 5x10 array of random values. Subtract the mean of each row from every value. </li>\n",
    "</ol>\n"
   ]
  },
  {
   "cell_type": "code",
   "execution_count": null,
   "metadata": {},
   "outputs": [],
   "source": []
  },
  {
   "cell_type": "markdown",
   "metadata": {},
   "source": [
    "<hr style=\"border-top: 1px solid gray; margin-top: 24px; margin-bottom: 1px\"></hr>"
   ]
  }
 ],
 "metadata": {
  "kernelspec": {
   "display_name": "Python (eds217_2023)",
   "language": "python",
   "name": "eds217_2023"
  },
  "language_info": {
   "codemirror_mode": {
    "name": "ipython",
    "version": 3
   },
   "file_extension": ".py",
   "mimetype": "text/x-python",
   "name": "python",
   "nbconvert_exporter": "python",
   "pygments_lexer": "ipython3",
   "version": "3.10.12"
  }
 },
 "nbformat": 4,
 "nbformat_minor": 4
}
