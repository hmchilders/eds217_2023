{
 "cells": [
  {
   "cell_type": "markdown",
   "metadata": {
    "slideshow": {
     "slide_type": "slide"
    }
   },
   "source": [
    "| [⬅️ Previous Session](practice_2-1_control_flow_statements.ipynb) | [🏠 Course Home](../index.ipynb) | [➡️ Next Session](practice_3-1_numpy.ipynb) |\n",
    "\n",
    "# Practice 1-4: Structured Data in Python"
   ]
  },
  {
   "cell_type": "markdown",
   "metadata": {},
   "source": [
    "## 📚  <b> Practice 1. </b> \n",
    "\n",
    "Dictionaries are an extremely common data structure. Often data is easiest to store according to keys, where each row of data has a unique key. \n",
    "\n",
    "For example, a dictionary of students might have a key for each student's name or id, and then a set of values that are associated with that student.\n",
    "\n",
    "### Make a dictionary of your peers.\n",
    "\n",
    "Come up with 3-4 questions and ask 5-6 of your peers to give answers to each one. The questions can be anything you want, but they should be questions that can be answered with a single word or number.\n",
    "\n",
    "For example, you might ask:\n",
    "- What is your favorite color? (pretty weak question)\n",
    "- How many siblings do you have? (ok, but not great)\n",
    "- What is your favorite genre of film? (better)\n",
    "- On a scale of 1-10, how well do you feel that you understand python dictionaries? (better still)\n",
    "\n",
    "Make sure you have a key for each person, and then a set of values for each question. \n",
    "\n",
    "Based on each person's responses, build a dictionary in the cell below:\n",
    "\n",
    "(note: You will end up with a dictionary of dictionaries)\n",
    "\n",
    "```python\n",
    "# Example:\n",
    "my_dict = {\n",
    "    'person1': {\n",
    "        'question1': 'answer1',\n",
    "        'question2': 'answer2',\n",
    "        'question3': 'answer3',\n",
    "        'question4': 'answer4',\n",
    "    },\n",
    "    'person2': {\n",
    "        'question1': 'answer1',\n",
    "        'question2': 'answer2',\n",
    "        'question3': 'answer3',\n",
    "        'question4': 'answer4',\n",
    "    },\n",
    "    'person3': {\n",
    "        'question1': 'answer1',\n",
    "        'question2': 'answer2',\n",
    "        'question3': 'answer3',\n",
    "        'question4': 'answer4',\n",
    "    },\n",
    "}\n",
    "```"
   ]
  },
  {
   "cell_type": "code",
   "execution_count": 31,
   "metadata": {},
   "outputs": [],
   "source": [
    "my_dict = {\n",
    "    'person1': {\n",
    "        'How many pets do you have': 2,\n",
    "        'What is your favorite food': 'pizza',\n",
    "        'Do you prefer Python to R?': 'Yes'\n",
    "    },\n",
    "    'person2': {\n",
    "        'How many pets do you have': 3,\n",
    "        'What is your favorite food': 'sushi',\n",
    "        'Do you prefer Python to R?': 'No'\n",
    "    },\n",
    "    'person3': {\n",
    "       'How many pets do you have': 1,\n",
    "        'What is your favorite food': 'acai bowl',\n",
    "        'Do you prefer Python to R?': 'Yes'\n",
    "    },\n",
    "    'person4': {\n",
    "        'How many pets do you have': 6,\n",
    "        'What is your favorite food': 'sandwiches',\n",
    "        'Do you prefer Python to R?': 'Yes'\n",
    "    },\n",
    "    'person5': {\n",
    "        'How many pets do you have': 0,\n",
    "        'What is your favorite food': 'Salads',\n",
    "        'Do you prefer Python to R?': 'No'\n",
    "    },'person6': {\n",
    "        'How many pets do you have': 2,\n",
    "        'What is your favorite food': 'Pasta',\n",
    "        'Do you prefer Python to R?': 'Yes'\n",
    "    }\n",
    "}"
   ]
  },
  {
   "cell_type": "markdown",
   "metadata": {},
   "source": [
    "## Dictionary to dataframe\n",
    "\n",
    "Now that you have a dictionary, you can convert it to a dataframe.\n",
    "\n",
    "### Convert your dictionary to a dataframe\n",
    "\n",
    "Use the `pd.DataFrame()` function to convert your dictionary to a dataframe.\n",
    "\n",
    "```python\n",
    "import pandas as pd\n",
    "\n",
    "# Convert a dictionary to a dataframe\n",
    "df = pd.DataFrame(my_dict)\n",
    "```\n"
   ]
  },
  {
   "cell_type": "code",
   "execution_count": 32,
   "metadata": {},
   "outputs": [],
   "source": [
    "import pandas as pd\n",
    "import matplotlib.pyplot as plt\n",
    "friends = pd.DataFrame(my_dict)"
   ]
  },
  {
   "cell_type": "markdown",
   "metadata": {},
   "source": [
    "\n",
    "### Investigate your dataframe using the following functions:\n",
    "\n",
    "- `df.head()`\n",
    "- `df.tail()`\n",
    "- `df.info()`\n",
    "\n"
   ]
  },
  {
   "cell_type": "code",
   "execution_count": 33,
   "metadata": {},
   "outputs": [
    {
     "data": {
      "text/html": [
       "<div>\n",
       "<style scoped>\n",
       "    .dataframe tbody tr th:only-of-type {\n",
       "        vertical-align: middle;\n",
       "    }\n",
       "\n",
       "    .dataframe tbody tr th {\n",
       "        vertical-align: top;\n",
       "    }\n",
       "\n",
       "    .dataframe thead th {\n",
       "        text-align: right;\n",
       "    }\n",
       "</style>\n",
       "<table border=\"1\" class=\"dataframe\">\n",
       "  <thead>\n",
       "    <tr style=\"text-align: right;\">\n",
       "      <th></th>\n",
       "      <th>person1</th>\n",
       "      <th>person2</th>\n",
       "      <th>person3</th>\n",
       "      <th>person4</th>\n",
       "      <th>person5</th>\n",
       "      <th>person6</th>\n",
       "    </tr>\n",
       "  </thead>\n",
       "  <tbody>\n",
       "    <tr>\n",
       "      <th>How many pets do you have</th>\n",
       "      <td>2</td>\n",
       "      <td>3</td>\n",
       "      <td>1</td>\n",
       "      <td>6</td>\n",
       "      <td>0</td>\n",
       "      <td>2</td>\n",
       "    </tr>\n",
       "    <tr>\n",
       "      <th>What is your favorite food</th>\n",
       "      <td>pizza</td>\n",
       "      <td>sushi</td>\n",
       "      <td>acai bowl</td>\n",
       "      <td>sandwiches</td>\n",
       "      <td>Salads</td>\n",
       "      <td>Pasta</td>\n",
       "    </tr>\n",
       "    <tr>\n",
       "      <th>Do you prefer Python to R?</th>\n",
       "      <td>Yes</td>\n",
       "      <td>No</td>\n",
       "      <td>Yes</td>\n",
       "      <td>Yes</td>\n",
       "      <td>No</td>\n",
       "      <td>Yes</td>\n",
       "    </tr>\n",
       "  </tbody>\n",
       "</table>\n",
       "</div>"
      ],
      "text/plain": [
       "                           person1 person2    person3     person4 person5  \\\n",
       "How many pets do you have        2       3          1           6       0   \n",
       "What is your favorite food   pizza   sushi  acai bowl  sandwiches  Salads   \n",
       "Do you prefer Python to R?     Yes      No        Yes         Yes      No   \n",
       "\n",
       "                           person6  \n",
       "How many pets do you have        2  \n",
       "What is your favorite food   Pasta  \n",
       "Do you prefer Python to R?     Yes  "
      ]
     },
     "execution_count": 33,
     "metadata": {},
     "output_type": "execute_result"
    }
   ],
   "source": [
    "friends.head()\n",
    "#friends.tail()\n",
    "#friends.info()\n"
   ]
  },
  {
   "cell_type": "markdown",
   "metadata": {},
   "source": [
    "Is your dataframe what you expected? If not, what is different? Why?? How would you need to change your data structure to get the dataframe you expected?\n",
    "\n",
    "I would prefer if the data was organized so that the questions were the column names and the row names were the people. I would need to change the data so that each dictionary within my_dict had the question as the dictionary name and the persons name in the \"question 1 spot"
   ]
  },
  {
   "cell_type": "code",
   "execution_count": null,
   "metadata": {},
   "outputs": [],
   "source": []
  },
  {
   "cell_type": "markdown",
   "metadata": {},
   "source": [
    "\n",
    "\n",
    "`df.transpose()` might be helpful here. What does it do?\n",
    "create a new dataframe that is a transposed version of your original dataframe.\n",
    "\n",
    "```python\n",
    "# Transpose a dataframe\n",
    "df_transposed = df.transpose()\n",
    "```"
   ]
  },
  {
   "cell_type": "code",
   "execution_count": 35,
   "metadata": {},
   "outputs": [
    {
     "data": {
      "text/html": [
       "<div>\n",
       "<style scoped>\n",
       "    .dataframe tbody tr th:only-of-type {\n",
       "        vertical-align: middle;\n",
       "    }\n",
       "\n",
       "    .dataframe tbody tr th {\n",
       "        vertical-align: top;\n",
       "    }\n",
       "\n",
       "    .dataframe thead th {\n",
       "        text-align: right;\n",
       "    }\n",
       "</style>\n",
       "<table border=\"1\" class=\"dataframe\">\n",
       "  <thead>\n",
       "    <tr style=\"text-align: right;\">\n",
       "      <th></th>\n",
       "      <th>How many pets do you have</th>\n",
       "      <th>What is your favorite food</th>\n",
       "      <th>Do you prefer Python to R?</th>\n",
       "    </tr>\n",
       "  </thead>\n",
       "  <tbody>\n",
       "    <tr>\n",
       "      <th>person1</th>\n",
       "      <td>2</td>\n",
       "      <td>pizza</td>\n",
       "      <td>Yes</td>\n",
       "    </tr>\n",
       "    <tr>\n",
       "      <th>person2</th>\n",
       "      <td>3</td>\n",
       "      <td>sushi</td>\n",
       "      <td>No</td>\n",
       "    </tr>\n",
       "    <tr>\n",
       "      <th>person3</th>\n",
       "      <td>1</td>\n",
       "      <td>acai bowl</td>\n",
       "      <td>Yes</td>\n",
       "    </tr>\n",
       "    <tr>\n",
       "      <th>person4</th>\n",
       "      <td>6</td>\n",
       "      <td>sandwiches</td>\n",
       "      <td>Yes</td>\n",
       "    </tr>\n",
       "    <tr>\n",
       "      <th>person5</th>\n",
       "      <td>0</td>\n",
       "      <td>Salads</td>\n",
       "      <td>No</td>\n",
       "    </tr>\n",
       "  </tbody>\n",
       "</table>\n",
       "</div>"
      ],
      "text/plain": [
       "        How many pets do you have What is your favorite food  \\\n",
       "person1                         2                      pizza   \n",
       "person2                         3                      sushi   \n",
       "person3                         1                  acai bowl   \n",
       "person4                         6                 sandwiches   \n",
       "person5                         0                     Salads   \n",
       "\n",
       "        Do you prefer Python to R?  \n",
       "person1                        Yes  \n",
       "person2                         No  \n",
       "person3                        Yes  \n",
       "person4                        Yes  \n",
       "person5                         No  "
      ]
     },
     "execution_count": 35,
     "metadata": {},
     "output_type": "execute_result"
    }
   ],
   "source": [
    "twisted_friends = friends.transpose()\n",
    "twisted_friends.head()\n"
   ]
  },
  {
   "cell_type": "markdown",
   "metadata": {},
   "source": [
    "### Visualize/summarize your dataframe using one or more of the following functions:\n",
    "\n",
    "- `df.describe()`\n",
    "- `df.plot()`\n",
    "- `df.hist()`"
   ]
  },
  {
   "cell_type": "code",
   "execution_count": 42,
   "metadata": {},
   "outputs": [
    {
     "data": {
      "text/plain": [
       "<Axes: >"
      ]
     },
     "execution_count": 42,
     "metadata": {},
     "output_type": "execute_result"
    },
    {
     "data": {
      "image/png": "[encoded data removed]",
      "text/plain": [
       "<Figure size 640x480 with 1 Axes>"
      ]
     },
     "metadata": {},
     "output_type": "display_data"
    }
   ],
   "source": [
    "#twisted_friends.describe()\n",
    "twisted_friends['How many pets do you have'].plot()\n",
    "#twisted_friends['How many pets do you have'].hist()\n"
   ]
  },
  {
   "cell_type": "markdown",
   "metadata": {},
   "source": [
    "## 📚  <b> Practice 2. </b>\n",
    "\n",
    "### Structured data search: Find structured data on the internet and convert it to a dataframe.\n",
    "\n",
    "You're looking for data that is in a table format, like a spreadsheet, but not available as an easy to download `.csv` or `.excel` file. This turns out to describe a lot of data!\n",
    "\n",
    "Often you can find this kind of data on wikipedia, or on government websites, or in research articles that contain tables of results.\n"
   ]
  },
  {
   "cell_type": "code",
   "execution_count": 57,
   "metadata": {},
   "outputs": [],
   "source": [
    "GWP_dict = {\n",
    "    'Global Warming Potential':{\n",
    "    'CFC-11': 4660,\n",
    "    'CFC-12': 10200,\n",
    "    'CFC-13': 13900,\n",
    "    'CFC-113': 5820,\n",
    "    'CFC-114': 8590,\n",
    "    'CFC-115': 7670,\n",
    "    'Halon-1301': 6290,\n",
    "    'Halon-1211': 1750,\n",
    "    'Halon-2402': 1470,\n",
    "    'Carbon tetrachloride': 1730,\n",
    "    'Methyl bromide': 2,\n",
    "    'Methyl chloroform': 160,\n",
    "    'HCFC-21': 148,\n",
    "    'HCFC-22': 1760,\n",
    "    'HCFC-123': 79,\n",
    "    'HCFC-124': 527,\n",
    "    'HCFC-141b': 782,\n",
    "    'HCFC-142b': 1980,\n",
    "    'HCFC-225ca': 127,\n",
    "    'HCFC-225cb': 525}\n",
    "}\n",
    "\n",
    "    \n"
   ]
  },
  {
   "cell_type": "markdown",
   "metadata": {},
   "source": [
    "### Convert your data to a dataframe"
   ]
  },
  {
   "cell_type": "code",
   "execution_count": 58,
   "metadata": {},
   "outputs": [
    {
     "data": {
      "text/html": [
       "<div>\n",
       "<style scoped>\n",
       "    .dataframe tbody tr th:only-of-type {\n",
       "        vertical-align: middle;\n",
       "    }\n",
       "\n",
       "    .dataframe tbody tr th {\n",
       "        vertical-align: top;\n",
       "    }\n",
       "\n",
       "    .dataframe thead th {\n",
       "        text-align: right;\n",
       "    }\n",
       "</style>\n",
       "<table border=\"1\" class=\"dataframe\">\n",
       "  <thead>\n",
       "    <tr style=\"text-align: right;\">\n",
       "      <th></th>\n",
       "      <th>Global Warming Potential</th>\n",
       "    </tr>\n",
       "  </thead>\n",
       "  <tbody>\n",
       "    <tr>\n",
       "      <th>CFC-11</th>\n",
       "      <td>4660</td>\n",
       "    </tr>\n",
       "    <tr>\n",
       "      <th>CFC-113</th>\n",
       "      <td>5820</td>\n",
       "    </tr>\n",
       "    <tr>\n",
       "      <th>CFC-114</th>\n",
       "      <td>8590</td>\n",
       "    </tr>\n",
       "    <tr>\n",
       "      <th>CFC-115</th>\n",
       "      <td>7670</td>\n",
       "    </tr>\n",
       "    <tr>\n",
       "      <th>CFC-12</th>\n",
       "      <td>10200</td>\n",
       "    </tr>\n",
       "  </tbody>\n",
       "</table>\n",
       "</div>"
      ],
      "text/plain": [
       "         Global Warming Potential\n",
       "CFC-11                       4660\n",
       "CFC-113                      5820\n",
       "CFC-114                      8590\n",
       "CFC-115                      7670\n",
       "CFC-12                      10200"
      ]
     },
     "execution_count": 58,
     "metadata": {},
     "output_type": "execute_result"
    }
   ],
   "source": [
    "GWP = pd.DataFrame(GWP_dict)\n",
    "GWP.head()"
   ]
  },
  {
   "cell_type": "code",
   "execution_count": 71,
   "metadata": {},
   "outputs": [
    {
     "ename": "TypeError",
     "evalue": "bar() missing 1 required positional argument: 'height'",
     "output_type": "error",
     "traceback": [
      "\u001b[0;31m---------------------------------------------------------------------------\u001b[0m",
      "\u001b[0;31mTypeError\u001b[0m                                 Traceback (most recent call last)",
      "Cell \u001b[0;32mIn[71], line 2\u001b[0m\n\u001b[1;32m      1\u001b[0m GWP\u001b[39m.\u001b[39mtranspose()\n\u001b[0;32m----> 2\u001b[0m plt\u001b[39m.\u001b[39;49mbar(GWP)\n",
      "\u001b[0;31mTypeError\u001b[0m: bar() missing 1 required positional argument: 'height'"
     ]
    }
   ],
   "source": [
    "GWP.transpose()\n",
    "plt.bar(GWP)"
   ]
  },
  {
   "cell_type": "markdown",
   "metadata": {},
   "source": [
    "## Explore your dataframe using the following functions:\n",
    "\n",
    "- `df.describe()`\n",
    "- `df.plot()`\n",
    "- `df.hist()`"
   ]
  }
 ],
 "metadata": {
  "kernelspec": {
   "display_name": "Python (eds217_2023)",
   "language": "python",
   "name": "eds217_2023"
  },
  "language_info": {
   "codemirror_mode": {
    "name": "ipython",
    "version": 3
   },
   "file_extension": ".py",
   "mimetype": "text/x-python",
   "name": "python",
   "nbconvert_exporter": "python",
   "pygments_lexer": "ipython3",
   "version": "3.10.12"
  }
 },
 "nbformat": 4,
 "nbformat_minor": 4
}
